{
 "cells": [
  {
   "cell_type": "markdown",
   "metadata": {},
   "source": [
    "# Encoding issues in Thai and Lao romanisation"
   ]
  },
  {
   "cell_type": "markdown",
   "metadata": {},
   "source": [
    "## Setup"
   ]
  },
  {
   "cell_type": "code",
   "execution_count": 11,
   "metadata": {},
   "outputs": [],
   "source": [
    "import os, sys\n",
    "SCRIPT_DIR = os.path.dirname(os.path.abspath(\"notebooks/el_utils.py\"))\n",
    "sys.path.append(os.path.dirname(SCRIPT_DIR))\n",
    "import el_utils as elu"
   ]
  },
  {
   "cell_type": "markdown",
   "metadata": {},
   "source": [
    "## Left half ring Below vs Ogonek\n",
    "\n",
    "Recently, I have been spending more and more time working with Lao and Thai bibliographic records. While exploring the data, it became apparent that there were divergent cataloguing practices relating to the Thai and Lao vowels that were romanised using either ǫ (o with Ogonek) or o̜ (o with combining Left Half Ring below):\n",
    "\n",
    "<img src=\"img/lao-thai-table.png\" alt=\"Problematic characters in Lao and Thai romanisation\" style=\"margin-left:auto; margin-right:auto\"/>\n",
    "\n",
    "I was curious about the divergent practice. There is limited information published about the history of the ALA-LC Romanisation tables."
   ]
  },
  {
   "cell_type": "markdown",
   "metadata": {},
   "source": [
    "### 1997 romanisation tables\n",
    "\n",
    "The last printed edition of the ALA-LC Romanisation tables \n",
    "\n",
    "\n",
    "<table>\n",
    "<tr style=\"font-size: 2.5em; text-align: center;\">\n",
    "    <td colspan=\"2\">ǫ</td>\n",
    "    <td colspan=\"2\">ǭ</td>\n",
    "    <td colspan=\"2\">o̜</td>\n",
    "    <td colspan=\"2\">ō̜</td>\n",
    "</tr>\n",
    "<tr>\n",
    "    <td>NFC</td>\n",
    "    <td>NFD</td>\n",
    "    <td>NFC</td>\n",
    "    <td>NFD</td>\n",
    "    <td>NFC</td>\n",
    "    <td>NFD</td>\n",
    "    <td>NFC</td>\n",
    "    <td>NFD</td>\n",
    "</tr>\n",
    "<tr>\n",
    "    <td>U+01EB</td>\n",
    "    <td>U+006F U+0328</td>\n",
    "    <td>U+01ED</td>\n",
    "    <td>U+006F U+0328 U+0304</td>\n",
    "    <td>U+006F U+031C</td>\n",
    "    <td>U+006F U+031C</td>\n",
    "    <td>U+014D U+031C</td>\n",
    "    <td>U+006F U+031C U+0304</td>\n",
    "</tr>\n",
    "</table>"
   ]
  },
  {
   "cell_type": "markdown",
   "metadata": {},
   "source": [
    "###  2012 revisions to the Lao romanisation table\n"
   ]
  }
 ],
 "metadata": {
  "interpreter": {
   "hash": "4ebdf5e1f3d66fb785de808ac12a41a47c536345a13f642861acc57be3985254"
  },
  "kernelspec": {
   "display_name": "Python 3.9.7 64-bit ('libr': venv)",
   "language": "python",
   "name": "python3"
  },
  "language_info": {
   "codemirror_mode": {
    "name": "ipython",
    "version": 3
   },
   "file_extension": ".py",
   "mimetype": "text/x-python",
   "name": "python",
   "nbconvert_exporter": "python",
   "pygments_lexer": "ipython3",
   "version": "3.9.7"
  },
  "orig_nbformat": 4
 },
 "nbformat": 4,
 "nbformat_minor": 2
}
