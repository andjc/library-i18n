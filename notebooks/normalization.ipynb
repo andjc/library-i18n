{
 "cells": [
  {
   "cell_type": "markdown",
   "metadata": {},
   "source": [
    "# Unicode normalisation in MARC records\n",
    "\n",
    "## Unicode normalisation forms\n",
    "\n"
   ]
  },
  {
   "cell_type": "markdown",
   "metadata": {},
   "source": [
    "## The MARC21 character model\n",
    "\n",
    "When Unicode was adopted as an encoding option for MARC21, a key criteria was the ability to round trip data between the MARC-8 encoding and Unicode. The mapping table mapped the atomic MARC-8 characters to their direct counterparts in Unicode.\n",
    "\n",
    "MARC-8 made extensive use of non-spacing diacritics. These diacritics were placed before the base character and were positioned according to their relative positioning in the typographic character space moving from highest to lowest.\n",
    "\n",
    "Unicode on the other hand places combining diacritics after the base character and the diacritics follow a cannonical ordering, opposite to MARC-8.\n",
    "\n",
    "The key difference between MARC21 character model and Unicode Normalization Form D (NFD) is that MARC21 treats some base character and diacritic combinations as base characters in and of themselves. The consequence is that bibliographic data that follows the MARC21 character model does not match any of the Unicode Normalization Forms.\n",
    "\n",
    "Some library software will generate bibliographic records that follow the MARC21 character model, while others will normalize data based on one of the Unicode Normalization Forms. If you include the use of copy cataloguing and the bulk importation of bibliographic records, or the differening conversion routines for MARC8 to Unicode, the state of a database becomes fluid. It is possible to observe NFC, NFD and MARC21 normalised data, as well as unnormalised data, within the same databases.\n",
    "\n",
    "Standard programming and scripting tools and libraries support the Unicode normalisation forms. It is uncommon to find tools and libraries that can normalise data according to the MARC21 character model."
   ]
  },
  {
   "cell_type": "markdown",
   "metadata": {},
   "source": [
    "### Latin divergences from NFD\n",
    "\n",
    "The differences between the MARC21 character model and Unicode Normalization Form D (NFD) affects Vietnamese, and a number of the ethnic languages of Vietnam. It also affects Thai and Lao romanisation. The characters affected are:\n",
    "\n",
    "|Character |MARC21 sequence |NFD sequence |\n",
    "|--------- |---------------- |------------ |\n",
    "|Ơ |U+01A0 |U+004F U+031B |\n",
    "|ơ |U+01A1 |U+008F U+031B |\n",
    "|Ư |U+01AF |U+0055 U+031B |\n",
    "|ư |U+01B0 |U+0075 U+031B |\n",
    "\n",
    "Unicode normalization Form D (NFD) will decompose each of these characters into a base character and a combining horn (U+031B), while MARC21 character model treats the characters as atomic characters. Looking through bibliographic records for Vietnamese resources, you will find records that are in Normalization Form C, Normalization Form D, and records that follow the MARC21 character model. All these forms potentially coexist within the same database.\n",
    "\n",
    "If we take the Vietnamese lexeme _sử_ as found in the word _lịch sử_ (history):\n",
    "\n",
    "|Normalisation form |Codepoints |\n",
    "|------------------ |---------- |\n",
    "|Unicode Normalisation Form C (NFC) |U+0073 __U+1EED__  |\n",
    "|Unicode Normalization Form D (NFD) |U+0073 __U+0075 U+031B U+0309__ |\n",
    "|MARC21 Character Model |U+0073 __U+01B0 U+0309__ |\n",
    "\n",
    "As can be seen the lexical component _sử_ can be normalised in three different ways, resulting in three differnet sequences of codepoints.\n",
    "\n",
    "If the words do not contain the vowels Ơ/ơ or Ư/ư, you would observe two normalised forms. Take the city _Huế_ as an example:\n",
    "\n",
    "|Normalisation form |Codepoints |\n",
    "|------------------ |---------- |\n",
    "|Unicode Normalisation Form C (NFC) |U+0048 U+0075 __U+1EBF__  |\n",
    "|Unicode Normalization Form D (NFD) or MARC21 Character Model |U+0048 U+0075 __U+0065 U+0302 U+0301__ |\n",
    "|MARC21 Character Model |U+0048 U+0075 __U+0065 U+0302 U+0301__ |\n",
    "\n",
    "For languages outside of Vietnam, and Thai and Lao romanisation, a strict MARC21 interpretation is identical to the codepoint sequence of Unicode Normalization Form D.\n",
    "\n",
    "Example screenshots taken from the same catalog, showing the codepoint sequences used for _sử_ in three different records:\n",
    "\n",
    "<div style=\"text-align:center;\">\n",
    "<img src=\"img/NFC.png\" alt=\"Using NFC\"  width=\"500px\"/>\n",
    "<p>Fig.1 - Using Unicode Normalization Form C</p>\n",
    "<img src=\"img/NFD.png\" alt=\"Using NFD\"  width=\"500px\"/>\n",
    "<p>Fig.2 - Using Unicode Normalization Form D</p>\n",
    "<img src=\"img/MNF.png\" alt=\"Using MARC21 form\" width=\"500px\"/>\n",
    "<p>Fig.3 - Using MARC21 form</p>\n",
    "</div>\n"
   ]
  },
  {
   "cell_type": "markdown",
   "metadata": {},
   "source": [
    "### Cyrillic divergences from NFD\n",
    "\n",
    "Cyrillic script normalisation differences between NFD and the MARC21 Character repertoire impact a range of languages including Belarusian, Bulgarian, Macedonian, Russian and Ukrainian. The following characters differ between the MARC21 character model and NFD:\n",
    "\n",
    "|Character |MARC21 codepoint |NFD sequence |\n",
    "|--------- |---------------- |------------ |\n",
    "|Ё |U+0401 |U+0415 U+0308 |\n",
    "|ё |U+0451 |U+0435 U+0308 |\n",
    "|Ѓ |U+0403 |U+0413 U+0301 |\n",
    "|ѓ |U+0453 |U+0433 U+0301 |\n",
    "|Ї |U+0407 |U+0406 U+0308 |\n",
    "|ї |U+0457 |U+0456 U+0308 |\n",
    "|Ќ |U+040C |U+041A U+0301 |\n",
    "|ќ |U+045C |U+043A U+0301 |\n",
    "|Ў |U+040E |U+0423 U+0306 |\n",
    "|ў |U+045E |U+0443 U+0306 |\n",
    "|Й |U+0419 |U+0418 U+0306 |\n",
    "|й |U+0439 |U+0438 U+0306 |\n",
    "\n",
    "\n",
    "\n",
    "\n",
    "\n",
    "\n",
    "\n",
    "\n",
    "\n"
   ]
  }
 ],
 "metadata": {
  "interpreter": {
   "hash": "1089646a020cfe6092fafe876ee4a6e68b3ec5a13ed8a22b79c0a42e9e2a954f"
  },
  "kernelspec": {
   "display_name": "Python 3.8.1 64-bit ('el': venv)",
   "name": "python3"
  },
  "language_info": {
   "codemirror_mode": {
    "name": "ipython",
    "version": 3
   },
   "file_extension": ".py",
   "mimetype": "text/x-python",
   "name": "python",
   "nbconvert_exporter": "python",
   "pygments_lexer": "ipython3",
   "version": "3.8.1"
  },
  "orig_nbformat": 4
 },
 "nbformat": 4,
 "nbformat_minor": 2
}
